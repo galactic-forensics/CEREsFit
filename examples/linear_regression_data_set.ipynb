{
 "cells": [
  {
   "cell_type": "markdown",
   "source": [
    "# CEREsFit Linear Regression - Example\n",
    "\n",
    "This is an example notebook to show the usage of the Mahon linear regression package.\n",
    "It is expected that you have installed the `ceresfit`.\n",
    "To do so, run:\n",
    "\n",
    "```\n",
    "pip install ceresfit\n",
    "```"
   ],
   "metadata": {
    "collapsed": false
   }
  },
  {
   "cell_type": "code",
   "execution_count": 12,
   "id": "b3519811",
   "metadata": {},
   "outputs": [],
   "source": [
    "from ceresfit import LinReg\n",
    "import numpy as np"
   ]
  },
  {
   "cell_type": "markdown",
   "id": "889cde3c",
   "metadata": {},
   "source": [
    "## Data preparation\n",
    "\n",
    "First, let us prepare some data. This data set is identical to data set 1 in Stephan and Trappitsch (2022)."
   ]
  },
  {
   "cell_type": "code",
   "execution_count": 13,
   "id": "4e4f1ae0",
   "metadata": {},
   "outputs": [],
   "source": [
    "xdat = np.array([0.0370, 0.0350, 0.0320, 0.0400, 0.0130, 0.0380, 0.0420, 0.0300])  # x data\n",
    "xunc = xdat * 0.03  # x uncertainty\n",
    "ydat = np.array([0.00080, 0.00084, 0.00100, 0.00085, 0.00270, 0.00071, 0.00043, 0.00160])  # y data\n",
    "yunc = ydat * 0.1  # y uncertainty\n",
    "\n",
    "# correlation factors for uncertainty\n",
    "rho = np.zeros_like(xdat) + 0.707106781186548"
   ]
  },
  {
   "cell_type": "markdown",
   "id": "8fd48417",
   "metadata": {},
   "source": [
    "## Linear Regression with Correlated Uncertainties\n",
    "\n",
    "This calculation is equal to case 1a in the paper by Stephan and Trappitsch (2022). "
   ]
  },
  {
   "cell_type": "code",
   "execution_count": 14,
   "id": "f1cdf302",
   "metadata": {},
   "outputs": [],
   "source": [
    "case_a = LinReg(xdat, xunc, ydat, yunc, rho=rho)"
   ]
  },
  {
   "cell_type": "markdown",
   "id": "70da09b6",
   "metadata": {},
   "source": [
    "We can now display the parameters and their uncertainties as following:"
   ]
  },
  {
   "cell_type": "code",
   "execution_count": 15,
   "id": "471de4e4",
   "metadata": {},
   "outputs": [
    {
     "data": {
      "text/plain": "(-0.07751574256394125, 0.010270918045982397)"
     },
     "execution_count": 15,
     "metadata": {},
     "output_type": "execute_result"
    }
   ],
   "source": [
    "case_a.slope"
   ]
  },
  {
   "cell_type": "code",
   "execution_count": 16,
   "id": "c5efba96",
   "metadata": {},
   "outputs": [
    {
     "data": {
      "text/plain": "(0.0036841599044688195, 0.0003752339783879849)"
     },
     "execution_count": 16,
     "metadata": {},
     "output_type": "execute_result"
    }
   ],
   "source": [
    "case_a.intercept"
   ]
  },
  {
   "cell_type": "code",
   "execution_count": 17,
   "id": "2d15c0df",
   "metadata": {},
   "outputs": [
    {
     "data": {
      "text/plain": "1.0443169785938846"
     },
     "execution_count": 17,
     "metadata": {},
     "output_type": "execute_result"
    }
   ],
   "source": [
    "case_a.mswd"
   ]
  },
  {
   "cell_type": "code",
   "execution_count": 18,
   "id": "ac8fff0c",
   "metadata": {},
   "outputs": [
    {
     "data": {
      "text/plain": "6.265901871563308"
     },
     "execution_count": 18,
     "metadata": {},
     "output_type": "execute_result"
    }
   ],
   "source": [
    "case_a.chi_squared"
   ]
  },
  {
   "cell_type": "markdown",
   "id": "1805c889",
   "metadata": {},
   "source": [
    "Alternatively, all parameters can be displayed at once in the order\n",
    "slope, slope uncertainty, intercept, intercept uncertainty, MSWD:"
   ]
  },
  {
   "cell_type": "code",
   "execution_count": 19,
   "id": "47b9fde0",
   "metadata": {},
   "outputs": [
    {
     "data": {
      "text/plain": "array([-7.75157426e-02,  1.02709180e-02,  3.68415990e-03,  3.75233978e-04,\n        1.04431698e+00])"
     },
     "execution_count": 19,
     "metadata": {},
     "output_type": "execute_result"
    }
   ],
   "source": [
    "case_a.parameters"
   ]
  },
  {
   "cell_type": "markdown",
   "source": [
    "An interesting aspect that users might want to check are the 95% confidence intervals that you would expect the MSWD value to lie in. This depends on the degrees of freedom of your system. The `LinReg` class contains a method to calculate the lower and upper bounds of the 95% confidence interval for the MSWD."
   ],
   "metadata": {
    "collapsed": false
   }
  },
  {
   "cell_type": "code",
   "execution_count": 20,
   "outputs": [
    {
     "data": {
      "text/plain": "(0.2062240409652005, 2.4082292225746533)"
     },
     "execution_count": 20,
     "metadata": {},
     "output_type": "execute_result"
    }
   ],
   "source": [
    "case_a.mswd_ci()"
   ],
   "metadata": {
    "collapsed": false
   }
  },
  {
   "cell_type": "markdown",
   "id": "72896f35",
   "metadata": {},
   "source": [
    "The above calculate MSWD of 1.04 lies perfectly well within this interval.\n",
    "\n",
    "## Linear Regression with Correlated Uncertainties\n",
    "\n",
    "This is equivalent to case 1b in the paper. Here, we can simply leave the factor `rho` away."
   ]
  },
  {
   "cell_type": "code",
   "execution_count": 21,
   "id": "08eee012",
   "metadata": {},
   "outputs": [
    {
     "data": {
      "text/plain": "array([-7.63850005e-02,  9.51997663e-03,  3.64110926e-03,  3.49027429e-04,\n        1.73032126e+00])"
     },
     "execution_count": 21,
     "metadata": {},
     "output_type": "execute_result"
    }
   ],
   "source": [
    "case_b = LinReg(xdat, xunc, ydat, yunc)\n",
    "case_b.parameters"
   ]
  },
  {
   "cell_type": "markdown",
   "id": "ada1d5a7",
   "metadata": {},
   "source": [
    "## Fixed point linear regression\n",
    "\n",
    "The package also provides the possibility to calculate a fixed point linear regression (case 1c). To do so, we first have to define a fixed point and then add it as an argument to the linear regression."
   ]
  },
  {
   "cell_type": "code",
   "execution_count": 22,
   "id": "3c0d1620",
   "metadata": {},
   "outputs": [
    {
     "data": {
      "text/plain": "array([-8.08426056e-02,  2.22210172e-03,  3.80842606e-03,  2.22210172e-05,\n        9.11015003e-01])"
     },
     "execution_count": 22,
     "metadata": {},
     "output_type": "execute_result"
    }
   ],
   "source": [
    "fix_point = np.array([0.01, 0.003])\n",
    "\n",
    "case_c = LinReg(xdat, xunc, ydat, yunc, rho=rho, fixpt=fix_point)\n",
    "case_c.parameters"
   ]
  },
  {
   "cell_type": "code",
   "execution_count": 22,
   "outputs": [],
   "source": [],
   "metadata": {
    "collapsed": false
   }
  }
 ],
 "metadata": {
  "kernelspec": {
   "display_name": "Python 3 (ipykernel)",
   "language": "python",
   "name": "python3"
  },
  "language_info": {
   "codemirror_mode": {
    "name": "ipython",
    "version": 3
   },
   "file_extension": ".py",
   "mimetype": "text/x-python",
   "name": "python",
   "nbconvert_exporter": "python",
   "pygments_lexer": "ipython3",
   "version": "3.9.5"
  }
 },
 "nbformat": 4,
 "nbformat_minor": 5
}
